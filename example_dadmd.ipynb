{
 "cells": [
  {
   "cell_type": "code",
   "execution_count": 4,
   "metadata": {},
   "outputs": [],
   "source": [
    "from model.dadmd import DA_DMD\n",
    "from utils import standardize_minmax\n",
    "import torch\n",
    "from torch.utils.data import TensorDataset, DataLoader\n",
    "import numpy as np\n",
    "import torch.nn as nn\n",
    "import torch.optim as optim\n",
    "\n",
    "device = torch.device('cuda' if torch.cuda.is_available() else 'cpu')\n"
   ]
  },
  {
   "cell_type": "markdown",
   "metadata": {},
   "source": [
    "# Train the model"
   ]
  },
  {
   "cell_type": "code",
   "execution_count": 5,
   "metadata": {},
   "outputs": [
    {
     "name": "stdout",
     "output_type": "stream",
     "text": [
      "Epoch 1/50, Loss: 0.005022\n",
      "Epoch 2/50, Loss: 0.001625\n",
      "Epoch 3/50, Loss: 0.001343\n",
      "Epoch 4/50, Loss: 0.001271\n",
      "Epoch 5/50, Loss: 0.001176\n",
      "Epoch 6/50, Loss: 0.001196\n",
      "Epoch 7/50, Loss: 0.001074\n",
      "Epoch 8/50, Loss: 0.001019\n",
      "Epoch 9/50, Loss: 0.001017\n",
      "Epoch 10/50, Loss: 0.000954\n",
      "Epoch 11/50, Loss: 0.000951\n",
      "Epoch 12/50, Loss: 0.000942\n",
      "Epoch 13/50, Loss: 0.000942\n",
      "Epoch 14/50, Loss: 0.000966\n",
      "Epoch 15/50, Loss: 0.000907\n",
      "Epoch 16/50, Loss: 0.000872\n",
      "Epoch 17/50, Loss: 0.000843\n",
      "Epoch 18/50, Loss: 0.000878\n",
      "Epoch 19/50, Loss: 0.000819\n",
      "Epoch 20/50, Loss: 0.000881\n",
      "Epoch 21/50, Loss: 0.000851\n",
      "Epoch 22/50, Loss: 0.000845\n",
      "Epoch 23/50, Loss: 0.000821\n",
      "Epoch 24/50, Loss: 0.000782\n",
      "Epoch 25/50, Loss: 0.000789\n",
      "Epoch 26/50, Loss: 0.000820\n",
      "Epoch 27/50, Loss: 0.000833\n",
      "Epoch 28/50, Loss: 0.000780\n",
      "Epoch 29/50, Loss: 0.000799\n",
      "Epoch 30/50, Loss: 0.000746\n",
      "Epoch 31/50, Loss: 0.000748\n",
      "Epoch 32/50, Loss: 0.000765\n",
      "Epoch 33/50, Loss: 0.000714\n",
      "Epoch 34/50, Loss: 0.000732\n",
      "Epoch 35/50, Loss: 0.000738\n",
      "Epoch 36/50, Loss: 0.000735\n",
      "Epoch 37/50, Loss: 0.000704\n",
      "Epoch 38/50, Loss: 0.000763\n",
      "Epoch 39/50, Loss: 0.000712\n",
      "Epoch 40/50, Loss: 0.000703\n",
      "Epoch 41/50, Loss: 0.000729\n",
      "Epoch 42/50, Loss: 0.000682\n",
      "Epoch 43/50, Loss: 0.000689\n",
      "Epoch 44/50, Loss: 0.000669\n",
      "Epoch 45/50, Loss: 0.000678\n",
      "Epoch 46/50, Loss: 0.000710\n",
      "Epoch 47/50, Loss: 0.000707\n",
      "Epoch 48/50, Loss: 0.000650\n",
      "Epoch 49/50, Loss: 0.000651\n",
      "Epoch 50/50, Loss: 0.000686\n"
     ]
    }
   ],
   "source": [
    "\"\"\"\n",
    "Train the DA-DMD model using synthetic data and save the model.\n",
    "\n",
    "\"\"\"\n",
    "\n",
    "loss_fn = nn.MSELoss()\n",
    "\n",
    "def train_model(model, train_loader, num_epochs=50, lr=1e-3):\n",
    "    optimizer = optim.Adam(model.parameters(), lr=lr)\n",
    "    model.train()\n",
    "    for epoch in range(num_epochs):\n",
    "        train_loss = 0.0\n",
    "        for X_batch, Y_batch in train_loader:\n",
    "            optimizer.zero_grad()\n",
    "            _, reconstructed = model(X_batch)\n",
    "            loss = loss_fn(reconstructed, Y_batch)\n",
    "            loss.backward()\n",
    "            optimizer.step()\n",
    "            train_loss += loss.item()\n",
    "        print(f\"Epoch {epoch+1}/{num_epochs}, Loss: {train_loss / len(train_loader):.6f}\")\n",
    "    return model\n",
    "\n",
    "\n",
    "\n",
    "\n",
    "hankel_dim = 40\n",
    "\n",
    "cars = standardize_minmax(np.load('synthetic_data/2_cars_2000.npy'))\n",
    "raman = standardize_minmax(np.load('synthetic_data/2_raman_2000.npy'))\n",
    "\n",
    "X_noisy = torch.tensor(cars[:1700, :], dtype=torch.float32).to(device)\n",
    "X_clean = torch.tensor(raman[:1700, :], dtype=torch.float32).to(device)\n",
    "\n",
    "train_dataset = TensorDataset(X_noisy, X_clean)\n",
    "train_loader = DataLoader(train_dataset, batch_size=16, shuffle=True)\n",
    "\n",
    "model = DA_DMD(input_dim=1000, num_modes=hankel_dim, Ndelay=hankel_dim).to(device)\n",
    "trained_model = train_model(model, train_loader, num_epochs=50)\n",
    "\n"
   ]
  },
  {
   "cell_type": "markdown",
   "metadata": {},
   "source": [
    "# Save model"
   ]
  },
  {
   "cell_type": "code",
   "execution_count": null,
   "metadata": {},
   "outputs": [],
   "source": [
    "## save the model\n",
    "torch.save(trained_model, 'pretrained_models/pretrained_dadmd_new.pt')"
   ]
  },
  {
   "cell_type": "markdown",
   "metadata": {},
   "source": [
    "# Test the model"
   ]
  },
  {
   "cell_type": "code",
   "execution_count": 8,
   "metadata": {},
   "outputs": [
    {
     "name": "stderr",
     "output_type": "stream",
     "text": [
      "/home/valapil/.local/lib/python3.10/site-packages/pydmd/snapshots.py:73: UserWarning: Input data condition number inf. Consider preprocessing data, passing in augmented data\n",
      "matrix, or regularization methods.\n",
      "  warnings.warn(\n",
      "/home/valapil/.local/lib/python3.10/site-packages/pydmd/dmdoperator.py:176: RuntimeWarning: divide by zero encountered in reciprocal\n",
      "  return np.linalg.multi_dot([U.T.conj(), Y, V]) * np.reciprocal(s)\n",
      "/home/valapil/.local/lib/python3.10/site-packages/pydmd/dmdoperator.py:176: RuntimeWarning: invalid value encountered in multiply\n",
      "  return np.linalg.multi_dot([U.T.conj(), Y, V]) * np.reciprocal(s)\n",
      "/home/valapil/.local/lib/python3.10/site-packages/pydmd/snapshots.py:73: UserWarning: Input data condition number inf. Consider preprocessing data, passing in augmented data\n",
      "matrix, or regularization methods.\n",
      "  warnings.warn(\n",
      "/home/valapil/.local/lib/python3.10/site-packages/pydmd/dmdoperator.py:176: RuntimeWarning: divide by zero encountered in reciprocal\n",
      "  return np.linalg.multi_dot([U.T.conj(), Y, V]) * np.reciprocal(s)\n",
      "/home/valapil/.local/lib/python3.10/site-packages/pydmd/dmdoperator.py:176: RuntimeWarning: invalid value encountered in multiply\n",
      "  return np.linalg.multi_dot([U.T.conj(), Y, V]) * np.reciprocal(s)\n",
      "/home/valapil/.local/lib/python3.10/site-packages/pydmd/snapshots.py:73: UserWarning: Input data condition number inf. Consider preprocessing data, passing in augmented data\n",
      "matrix, or regularization methods.\n",
      "  warnings.warn(\n",
      "/home/valapil/.local/lib/python3.10/site-packages/pydmd/dmdoperator.py:176: RuntimeWarning: divide by zero encountered in reciprocal\n",
      "  return np.linalg.multi_dot([U.T.conj(), Y, V]) * np.reciprocal(s)\n",
      "/home/valapil/.local/lib/python3.10/site-packages/pydmd/dmdoperator.py:176: RuntimeWarning: invalid value encountered in multiply\n",
      "  return np.linalg.multi_dot([U.T.conj(), Y, V]) * np.reciprocal(s)\n",
      "/home/valapil/.local/lib/python3.10/site-packages/pydmd/snapshots.py:73: UserWarning: Input data condition number inf. Consider preprocessing data, passing in augmented data\n",
      "matrix, or regularization methods.\n",
      "  warnings.warn(\n",
      "/home/valapil/.local/lib/python3.10/site-packages/pydmd/dmdoperator.py:176: RuntimeWarning: divide by zero encountered in reciprocal\n",
      "  return np.linalg.multi_dot([U.T.conj(), Y, V]) * np.reciprocal(s)\n",
      "/home/valapil/.local/lib/python3.10/site-packages/pydmd/dmdoperator.py:176: RuntimeWarning: invalid value encountered in multiply\n",
      "  return np.linalg.multi_dot([U.T.conj(), Y, V]) * np.reciprocal(s)\n",
      "/home/valapil/.local/lib/python3.10/site-packages/pydmd/snapshots.py:73: UserWarning: Input data condition number inf. Consider preprocessing data, passing in augmented data\n",
      "matrix, or regularization methods.\n",
      "  warnings.warn(\n",
      "/home/valapil/.local/lib/python3.10/site-packages/pydmd/dmdoperator.py:176: RuntimeWarning: divide by zero encountered in reciprocal\n",
      "  return np.linalg.multi_dot([U.T.conj(), Y, V]) * np.reciprocal(s)\n",
      "/home/valapil/.local/lib/python3.10/site-packages/pydmd/dmdoperator.py:176: RuntimeWarning: invalid value encountered in multiply\n",
      "  return np.linalg.multi_dot([U.T.conj(), Y, V]) * np.reciprocal(s)\n"
     ]
    },
    {
     "name": "stdout",
     "output_type": "stream",
     "text": [
      "Average Test Loss: 0.000598\n"
     ]
    }
   ],
   "source": [
    "from sklearn.metrics import mean_squared_error\n",
    "from utils import normalize\n",
    "\n",
    "\n",
    "def denoise_spectrum(model, raw_spectrum):\n",
    "    \"\"\"\n",
    "    Pass a raw Raman spectrum through the DA-DMD model to denoise it.\n",
    "\n",
    "    Args:\n",
    "        model (torch.nn.Module): Trained DA-DMD model\n",
    "        raw_spectrum (np.ndarray): 1D input spectrum of shape (spectrum_length,)\n",
    "\n",
    "    Returns:\n",
    "        np.ndarray: Denoised output spectrum of shape (spectrum_length,)\n",
    "    \"\"\"\n",
    "    model.eval()\n",
    "    spectrum_tensor = torch.tensor(raw_spectrum, dtype=torch.float32).unsqueeze(0).to(device)\n",
    "\n",
    "    with torch.no_grad():\n",
    "        _, denoised_spectrum = model(spectrum_tensor)\n",
    "\n",
    "    return denoised_spectrum.cpu().numpy().squeeze()\n",
    "\n",
    "\n",
    "\n",
    "# Load and preprocess data\n",
    "cars = standardize_minmax(np.load('synthetic_data/2_cars_2000.npy'))\n",
    "raman = standardize_minmax(np.load('synthetic_data/2_raman_2000.npy'))\n",
    "\n",
    "X_noisy = cars[1700:, :]   # test input\n",
    "X_clean = raman[1700:, :]  # ground truth\n",
    "\n",
    "# Load model and pretrained weights\n",
    "trained_model = torch.load('pretrained_models/pretrained_dadmd.pt')\n",
    "\n",
    "# Run denoising on all test samples\n",
    "test_losses = []\n",
    "for i in range(len(X_noisy)):\n",
    "    noisy_input = normalize(X_noisy[i]).copy()\n",
    "    clean_target = normalize(X_clean[i]).copy()\n",
    "\n",
    "    output = denoise_spectrum(trained_model, noisy_input)\n",
    "\n",
    "    loss = mean_squared_error(output, clean_target)\n",
    "    test_losses.append(loss)\n",
    "\n",
    "    # print(f\"Sample {i+1}/{len(X_noisy)} - MSE Loss: {loss:.6f}\")\n",
    "\n",
    "print(f\"Average Test Loss: {np.mean(test_losses):.6f}\")"
   ]
  },
  {
   "cell_type": "markdown",
   "metadata": {},
   "source": [
    "# Plot a DA-DMD reconstruction"
   ]
  },
  {
   "cell_type": "code",
   "execution_count": 9,
   "metadata": {},
   "outputs": [
    {
     "data": {
      "image/png": "[encoded data removed]",
      "text/plain": [
       "<Figure size 1000x500 with 1 Axes>"
      ]
     },
     "metadata": {},
     "output_type": "display_data"
    }
   ],
   "source": [
    "import matplotlib.pyplot as plt\n",
    "\n",
    "noisy = cars[1997, :] \n",
    "clean = raman[1997, :] \n",
    "result = denoise_spectrum(trained_model, noisy)\n",
    "\n",
    "plt.figure(figsize=(10,5))\n",
    "plt.plot(result, label='Reconstructed Raman spectra')\n",
    "plt.plot(clean, label='Raman spectra')\n",
    "plt.legend()\n",
    "plt.show()"
   ]
  }
 ],
 "metadata": {
  "kernelspec": {
   "display_name": "Python 3",
   "language": "python",
   "name": "python3"
  },
  "language_info": {
   "codemirror_mode": {
    "name": "ipython",
    "version": 3
   },
   "file_extension": ".py",
   "mimetype": "text/x-python",
   "name": "python",
   "nbconvert_exporter": "python",
   "pygments_lexer": "ipython3",
   "version": "3.10.12"
  }
 },
 "nbformat": 4,
 "nbformat_minor": 4
}
